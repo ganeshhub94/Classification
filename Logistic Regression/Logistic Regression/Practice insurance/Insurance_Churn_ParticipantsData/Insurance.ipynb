{
 "cells": [
  {
   "cell_type": "code",
   "execution_count": 1,
   "metadata": {},
   "outputs": [],
   "source": [
    "import pandas as pd\n",
    "import numpy as np\n",
    "import seaborn as sns\n",
    "import matplotlib.pyplot as plt"
   ]
  },
  {
   "cell_type": "code",
   "execution_count": 2,
   "metadata": {},
   "outputs": [],
   "source": [
    "import warnings\n",
    "warnings.filterwarnings('ignore')"
   ]
  },
  {
   "cell_type": "code",
   "execution_count": 3,
   "metadata": {},
   "outputs": [],
   "source": [
    "train=pd.read_csv(\"Train.csv\")"
   ]
  },
  {
   "cell_type": "code",
   "execution_count": 4,
   "metadata": {},
   "outputs": [],
   "source": [
    "test=pd.read_csv('Test.csv')"
   ]
  },
  {
   "cell_type": "code",
   "execution_count": 5,
   "metadata": {},
   "outputs": [],
   "source": [
    "df=pd.concat([train,test])"
   ]
  },
  {
   "cell_type": "code",
   "execution_count": 6,
   "metadata": {},
   "outputs": [
    {
     "data": {
      "text/html": [
       "<div>\n",
       "<style scoped>\n",
       "    .dataframe tbody tr th:only-of-type {\n",
       "        vertical-align: middle;\n",
       "    }\n",
       "\n",
       "    .dataframe tbody tr th {\n",
       "        vertical-align: top;\n",
       "    }\n",
       "\n",
       "    .dataframe thead th {\n",
       "        text-align: right;\n",
       "    }\n",
       "</style>\n",
       "<table border=\"1\" class=\"dataframe\">\n",
       "  <thead>\n",
       "    <tr style=\"text-align: right;\">\n",
       "      <th></th>\n",
       "      <th>feature_0</th>\n",
       "      <th>feature_1</th>\n",
       "      <th>feature_10</th>\n",
       "      <th>feature_11</th>\n",
       "      <th>feature_12</th>\n",
       "      <th>feature_13</th>\n",
       "      <th>feature_14</th>\n",
       "      <th>feature_15</th>\n",
       "      <th>feature_2</th>\n",
       "      <th>feature_3</th>\n",
       "      <th>feature_4</th>\n",
       "      <th>feature_5</th>\n",
       "      <th>feature_6</th>\n",
       "      <th>feature_7</th>\n",
       "      <th>feature_8</th>\n",
       "      <th>feature_9</th>\n",
       "      <th>labels</th>\n",
       "    </tr>\n",
       "  </thead>\n",
       "  <tbody>\n",
       "    <tr>\n",
       "      <th>0</th>\n",
       "      <td>-0.276515</td>\n",
       "      <td>-0.424429</td>\n",
       "      <td>0</td>\n",
       "      <td>0</td>\n",
       "      <td>0</td>\n",
       "      <td>0</td>\n",
       "      <td>10</td>\n",
       "      <td>2</td>\n",
       "      <td>1.344997</td>\n",
       "      <td>-0.012283</td>\n",
       "      <td>0.076230</td>\n",
       "      <td>1.076648</td>\n",
       "      <td>0.182198</td>\n",
       "      <td>3</td>\n",
       "      <td>0</td>\n",
       "      <td>1</td>\n",
       "      <td>1.0</td>\n",
       "    </tr>\n",
       "    <tr>\n",
       "      <th>1</th>\n",
       "      <td>0.853573</td>\n",
       "      <td>0.150991</td>\n",
       "      <td>0</td>\n",
       "      <td>1</td>\n",
       "      <td>0</td>\n",
       "      <td>0</td>\n",
       "      <td>0</td>\n",
       "      <td>3</td>\n",
       "      <td>0.503892</td>\n",
       "      <td>-0.979179</td>\n",
       "      <td>-0.569351</td>\n",
       "      <td>-0.411453</td>\n",
       "      <td>-0.251940</td>\n",
       "      <td>4</td>\n",
       "      <td>1</td>\n",
       "      <td>2</td>\n",
       "      <td>0.0</td>\n",
       "    </tr>\n",
       "    <tr>\n",
       "      <th>2</th>\n",
       "      <td>0.947747</td>\n",
       "      <td>-0.173832</td>\n",
       "      <td>0</td>\n",
       "      <td>0</td>\n",
       "      <td>0</td>\n",
       "      <td>0</td>\n",
       "      <td>5</td>\n",
       "      <td>3</td>\n",
       "      <td>1.825628</td>\n",
       "      <td>-0.703478</td>\n",
       "      <td>0.076230</td>\n",
       "      <td>-0.411453</td>\n",
       "      <td>-0.251940</td>\n",
       "      <td>6</td>\n",
       "      <td>1</td>\n",
       "      <td>2</td>\n",
       "      <td>0.0</td>\n",
       "    </tr>\n",
       "    <tr>\n",
       "      <th>3</th>\n",
       "      <td>0.853573</td>\n",
       "      <td>-0.381404</td>\n",
       "      <td>0</td>\n",
       "      <td>1</td>\n",
       "      <td>0</td>\n",
       "      <td>0</td>\n",
       "      <td>5</td>\n",
       "      <td>3</td>\n",
       "      <td>0.984523</td>\n",
       "      <td>-0.039464</td>\n",
       "      <td>-0.569351</td>\n",
       "      <td>-0.411453</td>\n",
       "      <td>-0.251940</td>\n",
       "      <td>4</td>\n",
       "      <td>0</td>\n",
       "      <td>2</td>\n",
       "      <td>0.0</td>\n",
       "    </tr>\n",
       "    <tr>\n",
       "      <th>4</th>\n",
       "      <td>1.324443</td>\n",
       "      <td>1.590527</td>\n",
       "      <td>0</td>\n",
       "      <td>0</td>\n",
       "      <td>0</td>\n",
       "      <td>0</td>\n",
       "      <td>8</td>\n",
       "      <td>3</td>\n",
       "      <td>-1.178318</td>\n",
       "      <td>-0.097711</td>\n",
       "      <td>-0.246560</td>\n",
       "      <td>-0.411453</td>\n",
       "      <td>-0.251940</td>\n",
       "      <td>0</td>\n",
       "      <td>1</td>\n",
       "      <td>1</td>\n",
       "      <td>0.0</td>\n",
       "    </tr>\n",
       "  </tbody>\n",
       "</table>\n",
       "</div>"
      ],
      "text/plain": [
       "   feature_0  feature_1  feature_10  feature_11  feature_12  feature_13  \\\n",
       "0  -0.276515  -0.424429           0           0           0           0   \n",
       "1   0.853573   0.150991           0           1           0           0   \n",
       "2   0.947747  -0.173832           0           0           0           0   \n",
       "3   0.853573  -0.381404           0           1           0           0   \n",
       "4   1.324443   1.590527           0           0           0           0   \n",
       "\n",
       "   feature_14  feature_15  feature_2  feature_3  feature_4  feature_5  \\\n",
       "0          10           2   1.344997  -0.012283   0.076230   1.076648   \n",
       "1           0           3   0.503892  -0.979179  -0.569351  -0.411453   \n",
       "2           5           3   1.825628  -0.703478   0.076230  -0.411453   \n",
       "3           5           3   0.984523  -0.039464  -0.569351  -0.411453   \n",
       "4           8           3  -1.178318  -0.097711  -0.246560  -0.411453   \n",
       "\n",
       "   feature_6  feature_7  feature_8  feature_9  labels  \n",
       "0   0.182198          3          0          1     1.0  \n",
       "1  -0.251940          4          1          2     0.0  \n",
       "2  -0.251940          6          1          2     0.0  \n",
       "3  -0.251940          4          0          2     0.0  \n",
       "4  -0.251940          0          1          1     0.0  "
      ]
     },
     "execution_count": 6,
     "metadata": {},
     "output_type": "execute_result"
    }
   ],
   "source": [
    "df.head()"
   ]
  },
  {
   "cell_type": "code",
   "execution_count": 7,
   "metadata": {},
   "outputs": [
    {
     "data": {
      "text/plain": [
       "0"
      ]
     },
     "execution_count": 7,
     "metadata": {},
     "output_type": "execute_result"
    }
   ],
   "source": [
    "df.duplicated().sum()"
   ]
  },
  {
   "cell_type": "code",
   "execution_count": 8,
   "metadata": {},
   "outputs": [
    {
     "data": {
      "text/plain": [
       "feature_0         0\n",
       "feature_1         0\n",
       "feature_10        0\n",
       "feature_11        0\n",
       "feature_12        0\n",
       "feature_13        0\n",
       "feature_14        0\n",
       "feature_15        0\n",
       "feature_2         0\n",
       "feature_3         0\n",
       "feature_4         0\n",
       "feature_5         0\n",
       "feature_6         0\n",
       "feature_7         0\n",
       "feature_8         0\n",
       "feature_9         0\n",
       "labels        11303\n",
       "dtype: int64"
      ]
     },
     "execution_count": 8,
     "metadata": {},
     "output_type": "execute_result"
    }
   ],
   "source": [
    "df.isna().sum()"
   ]
  },
  {
   "cell_type": "code",
   "execution_count": 9,
   "metadata": {},
   "outputs": [
    {
     "data": {
      "text/html": [
       "<div>\n",
       "<style scoped>\n",
       "    .dataframe tbody tr th:only-of-type {\n",
       "        vertical-align: middle;\n",
       "    }\n",
       "\n",
       "    .dataframe tbody tr th {\n",
       "        vertical-align: top;\n",
       "    }\n",
       "\n",
       "    .dataframe thead th {\n",
       "        text-align: right;\n",
       "    }\n",
       "</style>\n",
       "<table border=\"1\" class=\"dataframe\">\n",
       "  <thead>\n",
       "    <tr style=\"text-align: right;\">\n",
       "      <th></th>\n",
       "      <th>count</th>\n",
       "      <th>mean</th>\n",
       "      <th>std</th>\n",
       "      <th>min</th>\n",
       "      <th>25%</th>\n",
       "      <th>50%</th>\n",
       "      <th>75%</th>\n",
       "      <th>max</th>\n",
       "    </tr>\n",
       "  </thead>\n",
       "  <tbody>\n",
       "    <tr>\n",
       "      <th>feature_0</th>\n",
       "      <td>45211.0</td>\n",
       "      <td>2.066084e-16</td>\n",
       "      <td>1.000011</td>\n",
       "      <td>-2.159994</td>\n",
       "      <td>-0.747384</td>\n",
       "      <td>-0.182341</td>\n",
       "      <td>0.665225</td>\n",
       "      <td>5.091402</td>\n",
       "    </tr>\n",
       "    <tr>\n",
       "      <th>feature_1</th>\n",
       "      <td>45211.0</td>\n",
       "      <td>-8.085098e-17</td>\n",
       "      <td>1.000011</td>\n",
       "      <td>-3.081149</td>\n",
       "      <td>-0.423772</td>\n",
       "      <td>-0.300280</td>\n",
       "      <td>0.021587</td>\n",
       "      <td>33.094776</td>\n",
       "    </tr>\n",
       "    <tr>\n",
       "      <th>feature_10</th>\n",
       "      <td>45211.0</td>\n",
       "      <td>1.802659e-02</td>\n",
       "      <td>0.133049</td>\n",
       "      <td>0.000000</td>\n",
       "      <td>0.000000</td>\n",
       "      <td>0.000000</td>\n",
       "      <td>0.000000</td>\n",
       "      <td>1.000000</td>\n",
       "    </tr>\n",
       "    <tr>\n",
       "      <th>feature_11</th>\n",
       "      <td>45211.0</td>\n",
       "      <td>5.558382e-01</td>\n",
       "      <td>0.496878</td>\n",
       "      <td>0.000000</td>\n",
       "      <td>0.000000</td>\n",
       "      <td>1.000000</td>\n",
       "      <td>1.000000</td>\n",
       "      <td>1.000000</td>\n",
       "    </tr>\n",
       "    <tr>\n",
       "      <th>feature_12</th>\n",
       "      <td>45211.0</td>\n",
       "      <td>1.602265e-01</td>\n",
       "      <td>0.366820</td>\n",
       "      <td>0.000000</td>\n",
       "      <td>0.000000</td>\n",
       "      <td>0.000000</td>\n",
       "      <td>0.000000</td>\n",
       "      <td>1.000000</td>\n",
       "    </tr>\n",
       "    <tr>\n",
       "      <th>feature_13</th>\n",
       "      <td>45211.0</td>\n",
       "      <td>6.402424e-01</td>\n",
       "      <td>0.897951</td>\n",
       "      <td>0.000000</td>\n",
       "      <td>0.000000</td>\n",
       "      <td>0.000000</td>\n",
       "      <td>2.000000</td>\n",
       "      <td>2.000000</td>\n",
       "    </tr>\n",
       "    <tr>\n",
       "      <th>feature_14</th>\n",
       "      <td>45211.0</td>\n",
       "      <td>5.523014e+00</td>\n",
       "      <td>3.006911</td>\n",
       "      <td>0.000000</td>\n",
       "      <td>3.000000</td>\n",
       "      <td>6.000000</td>\n",
       "      <td>8.000000</td>\n",
       "      <td>11.000000</td>\n",
       "    </tr>\n",
       "    <tr>\n",
       "      <th>feature_15</th>\n",
       "      <td>45211.0</td>\n",
       "      <td>2.559974e+00</td>\n",
       "      <td>0.989059</td>\n",
       "      <td>0.000000</td>\n",
       "      <td>3.000000</td>\n",
       "      <td>3.000000</td>\n",
       "      <td>3.000000</td>\n",
       "      <td>3.000000</td>\n",
       "    </tr>\n",
       "    <tr>\n",
       "      <th>feature_2</th>\n",
       "      <td>45211.0</td>\n",
       "      <td>-6.663646e-17</td>\n",
       "      <td>1.000011</td>\n",
       "      <td>-1.779108</td>\n",
       "      <td>-0.938003</td>\n",
       "      <td>0.023260</td>\n",
       "      <td>0.624050</td>\n",
       "      <td>1.825628</td>\n",
       "    </tr>\n",
       "    <tr>\n",
       "      <th>feature_3</th>\n",
       "      <td>45211.0</td>\n",
       "      <td>8.399421e-17</td>\n",
       "      <td>1.000011</td>\n",
       "      <td>-1.002478</td>\n",
       "      <td>-0.602517</td>\n",
       "      <td>-0.303517</td>\n",
       "      <td>0.236237</td>\n",
       "      <td>18.094700</td>\n",
       "    </tr>\n",
       "    <tr>\n",
       "      <th>feature_4</th>\n",
       "      <td>45211.0</td>\n",
       "      <td>-9.299567e-16</td>\n",
       "      <td>1.000011</td>\n",
       "      <td>-0.569351</td>\n",
       "      <td>-0.569351</td>\n",
       "      <td>-0.246560</td>\n",
       "      <td>0.076230</td>\n",
       "      <td>19.443647</td>\n",
       "    </tr>\n",
       "    <tr>\n",
       "      <th>feature_5</th>\n",
       "      <td>45211.0</td>\n",
       "      <td>1.797782e-15</td>\n",
       "      <td>1.000011</td>\n",
       "      <td>-0.411453</td>\n",
       "      <td>-0.411453</td>\n",
       "      <td>-0.411453</td>\n",
       "      <td>-0.411453</td>\n",
       "      <td>8.297431</td>\n",
       "    </tr>\n",
       "    <tr>\n",
       "      <th>feature_6</th>\n",
       "      <td>45211.0</td>\n",
       "      <td>-2.466993e-16</td>\n",
       "      <td>1.000011</td>\n",
       "      <td>-0.251940</td>\n",
       "      <td>-0.251940</td>\n",
       "      <td>-0.251940</td>\n",
       "      <td>-0.251940</td>\n",
       "      <td>119.135982</td>\n",
       "    </tr>\n",
       "    <tr>\n",
       "      <th>feature_7</th>\n",
       "      <td>45211.0</td>\n",
       "      <td>4.339762e+00</td>\n",
       "      <td>3.272657</td>\n",
       "      <td>0.000000</td>\n",
       "      <td>1.000000</td>\n",
       "      <td>4.000000</td>\n",
       "      <td>7.000000</td>\n",
       "      <td>11.000000</td>\n",
       "    </tr>\n",
       "    <tr>\n",
       "      <th>feature_8</th>\n",
       "      <td>45211.0</td>\n",
       "      <td>1.167725e+00</td>\n",
       "      <td>0.608230</td>\n",
       "      <td>0.000000</td>\n",
       "      <td>1.000000</td>\n",
       "      <td>1.000000</td>\n",
       "      <td>2.000000</td>\n",
       "      <td>2.000000</td>\n",
       "    </tr>\n",
       "    <tr>\n",
       "      <th>feature_9</th>\n",
       "      <td>45211.0</td>\n",
       "      <td>1.224813e+00</td>\n",
       "      <td>0.747997</td>\n",
       "      <td>0.000000</td>\n",
       "      <td>1.000000</td>\n",
       "      <td>1.000000</td>\n",
       "      <td>2.000000</td>\n",
       "      <td>3.000000</td>\n",
       "    </tr>\n",
       "    <tr>\n",
       "      <th>labels</th>\n",
       "      <td>33908.0</td>\n",
       "      <td>1.169930e-01</td>\n",
       "      <td>0.321417</td>\n",
       "      <td>0.000000</td>\n",
       "      <td>0.000000</td>\n",
       "      <td>0.000000</td>\n",
       "      <td>0.000000</td>\n",
       "      <td>1.000000</td>\n",
       "    </tr>\n",
       "  </tbody>\n",
       "</table>\n",
       "</div>"
      ],
      "text/plain": [
       "              count          mean       std       min       25%       50%  \\\n",
       "feature_0   45211.0  2.066084e-16  1.000011 -2.159994 -0.747384 -0.182341   \n",
       "feature_1   45211.0 -8.085098e-17  1.000011 -3.081149 -0.423772 -0.300280   \n",
       "feature_10  45211.0  1.802659e-02  0.133049  0.000000  0.000000  0.000000   \n",
       "feature_11  45211.0  5.558382e-01  0.496878  0.000000  0.000000  1.000000   \n",
       "feature_12  45211.0  1.602265e-01  0.366820  0.000000  0.000000  0.000000   \n",
       "feature_13  45211.0  6.402424e-01  0.897951  0.000000  0.000000  0.000000   \n",
       "feature_14  45211.0  5.523014e+00  3.006911  0.000000  3.000000  6.000000   \n",
       "feature_15  45211.0  2.559974e+00  0.989059  0.000000  3.000000  3.000000   \n",
       "feature_2   45211.0 -6.663646e-17  1.000011 -1.779108 -0.938003  0.023260   \n",
       "feature_3   45211.0  8.399421e-17  1.000011 -1.002478 -0.602517 -0.303517   \n",
       "feature_4   45211.0 -9.299567e-16  1.000011 -0.569351 -0.569351 -0.246560   \n",
       "feature_5   45211.0  1.797782e-15  1.000011 -0.411453 -0.411453 -0.411453   \n",
       "feature_6   45211.0 -2.466993e-16  1.000011 -0.251940 -0.251940 -0.251940   \n",
       "feature_7   45211.0  4.339762e+00  3.272657  0.000000  1.000000  4.000000   \n",
       "feature_8   45211.0  1.167725e+00  0.608230  0.000000  1.000000  1.000000   \n",
       "feature_9   45211.0  1.224813e+00  0.747997  0.000000  1.000000  1.000000   \n",
       "labels      33908.0  1.169930e-01  0.321417  0.000000  0.000000  0.000000   \n",
       "\n",
       "                 75%         max  \n",
       "feature_0   0.665225    5.091402  \n",
       "feature_1   0.021587   33.094776  \n",
       "feature_10  0.000000    1.000000  \n",
       "feature_11  1.000000    1.000000  \n",
       "feature_12  0.000000    1.000000  \n",
       "feature_13  2.000000    2.000000  \n",
       "feature_14  8.000000   11.000000  \n",
       "feature_15  3.000000    3.000000  \n",
       "feature_2   0.624050    1.825628  \n",
       "feature_3   0.236237   18.094700  \n",
       "feature_4   0.076230   19.443647  \n",
       "feature_5  -0.411453    8.297431  \n",
       "feature_6  -0.251940  119.135982  \n",
       "feature_7   7.000000   11.000000  \n",
       "feature_8   2.000000    2.000000  \n",
       "feature_9   2.000000    3.000000  \n",
       "labels      0.000000    1.000000  "
      ]
     },
     "execution_count": 9,
     "metadata": {},
     "output_type": "execute_result"
    }
   ],
   "source": [
    "df.describe().T"
   ]
  },
  {
   "cell_type": "code",
   "execution_count": 10,
   "metadata": {},
   "outputs": [
    {
     "data": {
      "text/plain": [
       "0.0    29941\n",
       "1.0     3967\n",
       "Name: labels, dtype: int64"
      ]
     },
     "execution_count": 10,
     "metadata": {},
     "output_type": "execute_result"
    }
   ],
   "source": [
    "df.labels.value_counts()"
   ]
  },
  {
   "cell_type": "code",
   "execution_count": 11,
   "metadata": {},
   "outputs": [
    {
     "data": {
      "text/plain": [
       "<matplotlib.axes._subplots.AxesSubplot at 0x26f11a53400>"
      ]
     },
     "execution_count": 11,
     "metadata": {},
     "output_type": "execute_result"
    },
    {
     "data": {
      "image/png": "[encoded data removed]",
      "text/plain": [
       "<Figure size 432x288 with 1 Axes>"
      ]
     },
     "metadata": {
      "needs_background": "light"
     },
     "output_type": "display_data"
    }
   ],
   "source": [
    "sns.countplot(df.labels)"
   ]
  },
  {
   "cell_type": "code",
   "execution_count": 12,
   "metadata": {},
   "outputs": [],
   "source": [
    "df.drop(columns=['feature_10','feature_14','feature_0'],inplace=True)"
   ]
  },
  {
   "cell_type": "code",
   "execution_count": 13,
   "metadata": {},
   "outputs": [],
   "source": [
    "train_new=df[df['labels'].notna()]"
   ]
  },
  {
   "cell_type": "code",
   "execution_count": 14,
   "metadata": {},
   "outputs": [],
   "source": [
    "test_new=df[df['labels'].isna()]"
   ]
  },
  {
   "cell_type": "code",
   "execution_count": 15,
   "metadata": {},
   "outputs": [
    {
     "data": {
      "text/html": [
       "<div>\n",
       "<style scoped>\n",
       "    .dataframe tbody tr th:only-of-type {\n",
       "        vertical-align: middle;\n",
       "    }\n",
       "\n",
       "    .dataframe tbody tr th {\n",
       "        vertical-align: top;\n",
       "    }\n",
       "\n",
       "    .dataframe thead th {\n",
       "        text-align: right;\n",
       "    }\n",
       "</style>\n",
       "<table border=\"1\" class=\"dataframe\">\n",
       "  <thead>\n",
       "    <tr style=\"text-align: right;\">\n",
       "      <th></th>\n",
       "      <th>feature_1</th>\n",
       "      <th>feature_11</th>\n",
       "      <th>feature_12</th>\n",
       "      <th>feature_13</th>\n",
       "      <th>feature_15</th>\n",
       "      <th>feature_2</th>\n",
       "      <th>feature_3</th>\n",
       "      <th>feature_4</th>\n",
       "      <th>feature_5</th>\n",
       "      <th>feature_6</th>\n",
       "      <th>feature_7</th>\n",
       "      <th>feature_8</th>\n",
       "      <th>feature_9</th>\n",
       "      <th>labels</th>\n",
       "    </tr>\n",
       "  </thead>\n",
       "  <tbody>\n",
       "    <tr>\n",
       "      <th>0</th>\n",
       "      <td>-0.424429</td>\n",
       "      <td>0</td>\n",
       "      <td>0</td>\n",
       "      <td>0</td>\n",
       "      <td>2</td>\n",
       "      <td>1.344997</td>\n",
       "      <td>-0.012283</td>\n",
       "      <td>0.076230</td>\n",
       "      <td>1.076648</td>\n",
       "      <td>0.182198</td>\n",
       "      <td>3</td>\n",
       "      <td>0</td>\n",
       "      <td>1</td>\n",
       "      <td>1.0</td>\n",
       "    </tr>\n",
       "    <tr>\n",
       "      <th>1</th>\n",
       "      <td>0.150991</td>\n",
       "      <td>1</td>\n",
       "      <td>0</td>\n",
       "      <td>0</td>\n",
       "      <td>3</td>\n",
       "      <td>0.503892</td>\n",
       "      <td>-0.979179</td>\n",
       "      <td>-0.569351</td>\n",
       "      <td>-0.411453</td>\n",
       "      <td>-0.251940</td>\n",
       "      <td>4</td>\n",
       "      <td>1</td>\n",
       "      <td>2</td>\n",
       "      <td>0.0</td>\n",
       "    </tr>\n",
       "    <tr>\n",
       "      <th>2</th>\n",
       "      <td>-0.173832</td>\n",
       "      <td>0</td>\n",
       "      <td>0</td>\n",
       "      <td>0</td>\n",
       "      <td>3</td>\n",
       "      <td>1.825628</td>\n",
       "      <td>-0.703478</td>\n",
       "      <td>0.076230</td>\n",
       "      <td>-0.411453</td>\n",
       "      <td>-0.251940</td>\n",
       "      <td>6</td>\n",
       "      <td>1</td>\n",
       "      <td>2</td>\n",
       "      <td>0.0</td>\n",
       "    </tr>\n",
       "    <tr>\n",
       "      <th>3</th>\n",
       "      <td>-0.381404</td>\n",
       "      <td>1</td>\n",
       "      <td>0</td>\n",
       "      <td>0</td>\n",
       "      <td>3</td>\n",
       "      <td>0.984523</td>\n",
       "      <td>-0.039464</td>\n",
       "      <td>-0.569351</td>\n",
       "      <td>-0.411453</td>\n",
       "      <td>-0.251940</td>\n",
       "      <td>4</td>\n",
       "      <td>0</td>\n",
       "      <td>2</td>\n",
       "      <td>0.0</td>\n",
       "    </tr>\n",
       "    <tr>\n",
       "      <th>4</th>\n",
       "      <td>1.590527</td>\n",
       "      <td>0</td>\n",
       "      <td>0</td>\n",
       "      <td>0</td>\n",
       "      <td>3</td>\n",
       "      <td>-1.178318</td>\n",
       "      <td>-0.097711</td>\n",
       "      <td>-0.246560</td>\n",
       "      <td>-0.411453</td>\n",
       "      <td>-0.251940</td>\n",
       "      <td>0</td>\n",
       "      <td>1</td>\n",
       "      <td>1</td>\n",
       "      <td>0.0</td>\n",
       "    </tr>\n",
       "  </tbody>\n",
       "</table>\n",
       "</div>"
      ],
      "text/plain": [
       "   feature_1  feature_11  feature_12  feature_13  feature_15  feature_2  \\\n",
       "0  -0.424429           0           0           0           2   1.344997   \n",
       "1   0.150991           1           0           0           3   0.503892   \n",
       "2  -0.173832           0           0           0           3   1.825628   \n",
       "3  -0.381404           1           0           0           3   0.984523   \n",
       "4   1.590527           0           0           0           3  -1.178318   \n",
       "\n",
       "   feature_3  feature_4  feature_5  feature_6  feature_7  feature_8  \\\n",
       "0  -0.012283   0.076230   1.076648   0.182198          3          0   \n",
       "1  -0.979179  -0.569351  -0.411453  -0.251940          4          1   \n",
       "2  -0.703478   0.076230  -0.411453  -0.251940          6          1   \n",
       "3  -0.039464  -0.569351  -0.411453  -0.251940          4          0   \n",
       "4  -0.097711  -0.246560  -0.411453  -0.251940          0          1   \n",
       "\n",
       "   feature_9  labels  \n",
       "0          1     1.0  \n",
       "1          2     0.0  \n",
       "2          2     0.0  \n",
       "3          2     0.0  \n",
       "4          1     0.0  "
      ]
     },
     "execution_count": 15,
     "metadata": {},
     "output_type": "execute_result"
    }
   ],
   "source": [
    "train_new.head()"
   ]
  },
  {
   "cell_type": "code",
   "execution_count": 16,
   "metadata": {},
   "outputs": [],
   "source": [
    "X=train_new.loc[:,:'feature_9']"
   ]
  },
  {
   "cell_type": "code",
   "execution_count": 17,
   "metadata": {},
   "outputs": [],
   "source": [
    "y=train_new['labels']"
   ]
  },
  {
   "cell_type": "markdown",
   "metadata": {},
   "source": [
    "## Train_test_split"
   ]
  },
  {
   "cell_type": "code",
   "execution_count": 18,
   "metadata": {},
   "outputs": [],
   "source": [
    "from sklearn.model_selection import train_test_split\n",
    "from sklearn.linear_model import LogisticRegression\n",
    "from sklearn.metrics import accuracy_score,confusion_matrix,classification_report"
   ]
  },
  {
   "cell_type": "code",
   "execution_count": 19,
   "metadata": {},
   "outputs": [],
   "source": [
    "train_x,test_x,train_y,test_y=train_test_split(X,y,test_size=.25,random_state=10)"
   ]
  },
  {
   "cell_type": "code",
   "execution_count": 20,
   "metadata": {},
   "outputs": [
    {
     "name": "stdout",
     "output_type": "stream",
     "text": [
      "(8477, 13)\n"
     ]
    }
   ],
   "source": [
    "print(test_x.shape)"
   ]
  },
  {
   "cell_type": "code",
   "execution_count": 21,
   "metadata": {},
   "outputs": [],
   "source": [
    "log_reg=LogisticRegression()"
   ]
  },
  {
   "cell_type": "code",
   "execution_count": 22,
   "metadata": {},
   "outputs": [
    {
     "data": {
      "text/plain": [
       "LogisticRegression(C=1.0, class_weight=None, dual=False, fit_intercept=True,\n",
       "          intercept_scaling=1, max_iter=100, multi_class='ovr', n_jobs=1,\n",
       "          penalty='l2', random_state=None, solver='liblinear', tol=0.0001,\n",
       "          verbose=0, warm_start=False)"
      ]
     },
     "execution_count": 22,
     "metadata": {},
     "output_type": "execute_result"
    }
   ],
   "source": [
    "log_reg.fit(train_x,train_y)"
   ]
  },
  {
   "cell_type": "code",
   "execution_count": 23,
   "metadata": {},
   "outputs": [],
   "source": [
    "test_pred=log_reg.predict(test_x)"
   ]
  },
  {
   "cell_type": "code",
   "execution_count": 24,
   "metadata": {},
   "outputs": [],
   "source": [
    "train_pred=log_reg.predict(train_x)"
   ]
  },
  {
   "cell_type": "code",
   "execution_count": 25,
   "metadata": {},
   "outputs": [
    {
     "name": "stdout",
     "output_type": "stream",
     "text": [
      "Train_Accuracy:  0.8919822264165782\n",
      "Test Accuracy : 0.8859266249852542\n"
     ]
    }
   ],
   "source": [
    "print(\"Train_Accuracy: \",accuracy_score(train_y,train_pred))\n",
    "print(\"Test Accuracy :\",accuracy_score(test_y,test_pred))"
   ]
  },
  {
   "cell_type": "code",
   "execution_count": 26,
   "metadata": {},
   "outputs": [
    {
     "name": "stdout",
     "output_type": "stream",
     "text": [
      "             precision    recall  f1-score   support\n",
      "\n",
      "        0.0       0.90      0.98      0.94      7439\n",
      "        1.0       0.60      0.20      0.30      1038\n",
      "\n",
      "avg / total       0.86      0.89      0.86      8477\n",
      "\n"
     ]
    }
   ],
   "source": [
    "print(classification_report(test_y,test_pred))"
   ]
  },
  {
   "cell_type": "code",
   "execution_count": null,
   "metadata": {},
   "outputs": [],
   "source": []
  },
  {
   "cell_type": "code",
   "execution_count": 27,
   "metadata": {},
   "outputs": [
    {
     "name": "stdout",
     "output_type": "stream",
     "text": [
      "[[7299  140]\n",
      " [ 827  211]]\n"
     ]
    }
   ],
   "source": [
    "print(confusion_matrix(test_y,test_pred))"
   ]
  },
  {
   "cell_type": "code",
   "execution_count": 28,
   "metadata": {},
   "outputs": [],
   "source": [
    "con_mat=confusion_matrix(test_y,test_pred)"
   ]
  },
  {
   "cell_type": "code",
   "execution_count": 29,
   "metadata": {},
   "outputs": [
    {
     "data": {
      "text/plain": [
       "211"
      ]
     },
     "execution_count": 29,
     "metadata": {},
     "output_type": "execute_result"
    }
   ],
   "source": [
    "tp=con_mat[1,1]\n",
    "tp"
   ]
  },
  {
   "cell_type": "code",
   "execution_count": 30,
   "metadata": {},
   "outputs": [
    {
     "data": {
      "text/plain": [
       "7299"
      ]
     },
     "execution_count": 30,
     "metadata": {},
     "output_type": "execute_result"
    }
   ],
   "source": [
    "tn=con_mat[0,0]\n",
    "tn"
   ]
  },
  {
   "cell_type": "code",
   "execution_count": 31,
   "metadata": {},
   "outputs": [
    {
     "data": {
      "text/plain": [
       "140"
      ]
     },
     "execution_count": 31,
     "metadata": {},
     "output_type": "execute_result"
    }
   ],
   "source": [
    "fp=con_mat[0,1]\n",
    "fp"
   ]
  },
  {
   "cell_type": "code",
   "execution_count": 32,
   "metadata": {},
   "outputs": [
    {
     "data": {
      "text/plain": [
       "827"
      ]
     },
     "execution_count": 32,
     "metadata": {},
     "output_type": "execute_result"
    }
   ],
   "source": [
    "fn=con_mat[1,0]\n",
    "fn"
   ]
  },
  {
   "cell_type": "code",
   "execution_count": 33,
   "metadata": {},
   "outputs": [],
   "source": [
    "recalll=tp/(tp+fn)"
   ]
  },
  {
   "cell_type": "code",
   "execution_count": 34,
   "metadata": {},
   "outputs": [],
   "source": [
    "prec=tp/(tp+fp)"
   ]
  },
  {
   "cell_type": "code",
   "execution_count": 35,
   "metadata": {},
   "outputs": [
    {
     "data": {
      "text/plain": [
       "(0.6011396011396012, 0.20327552986512523)"
      ]
     },
     "execution_count": 35,
     "metadata": {},
     "output_type": "execute_result"
    }
   ],
   "source": [
    "prec,recalll"
   ]
  },
  {
   "cell_type": "code",
   "execution_count": 36,
   "metadata": {},
   "outputs": [
    {
     "data": {
      "text/plain": [
       "array([0.27324504, 0.03840091, 0.00457067, ..., 0.07478795, 0.04102724,\n",
       "       0.13794731])"
      ]
     },
     "execution_count": 36,
     "metadata": {},
     "output_type": "execute_result"
    }
   ],
   "source": [
    "log_reg.predict_proba(test_x)[:,1]"
   ]
  },
  {
   "cell_type": "code",
   "execution_count": 37,
   "metadata": {},
   "outputs": [
    {
     "data": {
      "text/plain": [
       "array([0, 0, 0, ..., 0, 0, 0])"
      ]
     },
     "execution_count": 37,
     "metadata": {},
     "output_type": "execute_result"
    }
   ],
   "source": [
    "np.where(log_reg.predict_proba(test_x)[:,1]>.3,1,0)"
   ]
  },
  {
   "cell_type": "code",
   "execution_count": 38,
   "metadata": {},
   "outputs": [
    {
     "name": "stdout",
     "output_type": "stream",
     "text": [
      "Thresold  0.0\n",
      "[[   0 7439]\n",
      " [   0 1038]]\n",
      "Accuracy Score : 0.12244897959183673\n",
      "Thresold  0.1\n",
      "[[5508 1931]\n",
      " [ 153  885]]\n",
      "Accuracy Score : 0.7541583107231332\n",
      "Thresold  0.2\n",
      "[[6777  662]\n",
      " [ 413  625]]\n",
      "Accuracy Score : 0.873186268727144\n",
      "Thresold  0.30000000000000004\n",
      "[[7101  338]\n",
      " [ 618  420]]\n",
      "Accuracy Score : 0.8872242538633951\n",
      "Thresold  0.4\n",
      "[[7237  202]\n",
      " [ 750  288]]\n",
      "Accuracy Score : 0.8876961189099918\n",
      "Thresold  0.5\n",
      "[[7299  140]\n",
      " [ 827  211]]\n",
      "Accuracy Score : 0.8859266249852542\n",
      "Thresold  0.6000000000000001\n",
      "[[7342   97]\n",
      " [ 880  158]]\n",
      "Accuracy Score : 0.8847469623687625\n",
      "Thresold  0.7000000000000001\n",
      "[[7381   58]\n",
      " [ 927  111]]\n",
      "Accuracy Score : 0.8838032322755692\n",
      "Thresold  0.8\n",
      "[[7397   42]\n",
      " [ 962   76]]\n",
      "Accuracy Score : 0.881561873304235\n",
      "Thresold  0.9\n",
      "[[7415   24]\n",
      " [ 991   47]]\n",
      "Accuracy Score : 0.8802642444260942\n",
      "Thresold  1.0\n",
      "[[7439    0]\n",
      " [1038    0]]\n",
      "Accuracy Score : 0.8775510204081632\n"
     ]
    }
   ],
   "source": [
    "for th in np.arange(0,1.1,0.1):\n",
    "    test_preds=np.where(log_reg.predict_proba(test_x)[:,1]>th,1,0)\n",
    "    print(\"Thresold \",th)\n",
    "    print(confusion_matrix(test_y,test_preds))\n",
    "    print(\"Accuracy Score :\",accuracy_score(test_y,test_preds))"
   ]
  },
  {
   "cell_type": "code",
   "execution_count": 39,
   "metadata": {},
   "outputs": [],
   "source": [
    "from sklearn.metrics import roc_auc_score,roc_curve"
   ]
  },
  {
   "cell_type": "code",
   "execution_count": 40,
   "metadata": {},
   "outputs": [],
   "source": [
    "logit=roc_auc_score(test_y,log_reg.predict(test_x))"
   ]
  },
  {
   "cell_type": "code",
   "execution_count": 41,
   "metadata": {},
   "outputs": [],
   "source": [
    "fpr,tpr,threshold=roc_curve(test_y,log_reg.predict_proba(test_x)[:,1])"
   ]
  },
  {
   "cell_type": "code",
   "execution_count": 42,
   "metadata": {},
   "outputs": [
    {
     "data": {
      "text/plain": [
       "<matplotlib.legend.Legend at 0x26f13363a58>"
      ]
     },
     "execution_count": 42,
     "metadata": {},
     "output_type": "execute_result"
    },
    {
     "data": {
      "image/png": "[encoded data removed]",
      "text/plain": [
       "<Figure size 432x288 with 1 Axes>"
      ]
     },
     "metadata": {
      "needs_background": "light"
     },
     "output_type": "display_data"
    }
   ],
   "source": [
    "plt.plot(fpr,tpr,label='Logistic Regression '%logit)\n",
    "plt.plot([0, 1], [0, 1],'r--')\n",
    "plt.xlim([0.0, 1.0])\n",
    "plt.ylim([0.0, 1.05])\n",
    "plt.xlabel('False Positive Rate')\n",
    "plt.ylabel('True Positive Rate')\n",
    "plt.title('Receiver operating characteristic')\n",
    "plt.legend(loc=\"lower right\")"
   ]
  },
  {
   "cell_type": "code",
   "execution_count": null,
   "metadata": {},
   "outputs": [],
   "source": []
  },
  {
   "cell_type": "markdown",
   "metadata": {},
   "source": [
    "## Model Tunning"
   ]
  },
  {
   "cell_type": "code",
   "execution_count": 43,
   "metadata": {},
   "outputs": [],
   "source": [
    "corr=df.corr()['labels'].sort_values()"
   ]
  },
  {
   "cell_type": "code",
   "execution_count": 44,
   "metadata": {},
   "outputs": [
    {
     "data": {
      "text/plain": [
       "Index(['feature_1', 'feature_11', 'feature_12', 'feature_13', 'feature_15',\n",
       "       'feature_2', 'feature_3', 'feature_4', 'feature_5', 'feature_6',\n",
       "       'feature_7', 'feature_8', 'feature_9', 'labels'],\n",
       "      dtype='object')"
      ]
     },
     "execution_count": 44,
     "metadata": {},
     "output_type": "execute_result"
    }
   ],
   "source": [
    "df.columns"
   ]
  },
  {
   "cell_type": "code",
   "execution_count": 45,
   "metadata": {},
   "outputs": [
    {
     "data": {
      "text/plain": [
       "feature_13   -0.148583\n",
       "feature_11   -0.135662\n",
       "feature_15   -0.079190\n",
       "feature_4    -0.075025\n",
       "feature_12   -0.065480\n",
       "feature_2    -0.033345\n",
       "feature_7     0.038588\n",
       "feature_8     0.046193\n",
       "feature_1     0.048611\n",
       "feature_9     0.068356\n",
       "feature_5     0.106239\n",
       "feature_6     0.119322\n",
       "feature_3     0.392971\n",
       "labels        1.000000\n",
       "Name: labels, dtype: float64"
      ]
     },
     "execution_count": 45,
     "metadata": {},
     "output_type": "execute_result"
    }
   ],
   "source": [
    "corr"
   ]
  },
  {
   "cell_type": "code",
   "execution_count": 46,
   "metadata": {},
   "outputs": [
    {
     "name": "stdout",
     "output_type": "stream",
     "text": [
      "feature_1 7168\n",
      "feature_11 2\n",
      "feature_12 2\n",
      "feature_13 3\n",
      "feature_15 4\n",
      "feature_2 31\n",
      "feature_3 1573\n",
      "feature_4 48\n",
      "feature_5 559\n",
      "feature_6 41\n",
      "feature_7 12\n",
      "feature_8 3\n",
      "feature_9 4\n",
      "labels 2\n"
     ]
    }
   ],
   "source": [
    "for col in df.columns:\n",
    "    print(col, df[col].nunique())"
   ]
  },
  {
   "cell_type": "code",
   "execution_count": null,
   "metadata": {},
   "outputs": [],
   "source": [
    "def outlier(data):\n",
    "    for i in df[data]:\n",
    "        print((df[data].mean()-i)/df[data].std())\n",
    "        "
   ]
  },
  {
   "cell_type": "code",
   "execution_count": null,
   "metadata": {},
   "outputs": [],
   "source": []
  },
  {
   "cell_type": "code",
   "execution_count": 48,
   "metadata": {},
   "outputs": [],
   "source": [
    "from imblearn.over_sampling import SMOTE"
   ]
  },
  {
   "cell_type": "code",
   "execution_count": 49,
   "metadata": {},
   "outputs": [],
   "source": [
    "smote=SMOTE()"
   ]
  },
  {
   "cell_type": "code",
   "execution_count": 50,
   "metadata": {},
   "outputs": [
    {
     "data": {
      "text/plain": [
       "Index(['feature_1', 'feature_11', 'feature_12', 'feature_13', 'feature_15',\n",
       "       'feature_2', 'feature_3', 'feature_4', 'feature_5', 'feature_6',\n",
       "       'feature_7', 'feature_8', 'feature_9', 'labels'],\n",
       "      dtype='object')"
      ]
     },
     "execution_count": 50,
     "metadata": {},
     "output_type": "execute_result"
    }
   ],
   "source": [
    "df.columns"
   ]
  },
  {
   "cell_type": "code",
   "execution_count": 51,
   "metadata": {},
   "outputs": [],
   "source": [
    "smote_x,smote_y=smote.fit_sample(train_x.astype('float'),train_y)"
   ]
  },
  {
   "cell_type": "code",
   "execution_count": 52,
   "metadata": {},
   "outputs": [
    {
     "name": "stdout",
     "output_type": "stream",
     "text": [
      "Before Smote:  Counter({0.0: 22502, 1.0: 2929})\n",
      "After Smote:  Counter({0.0: 22502, 1.0: 22502})\n"
     ]
    }
   ],
   "source": [
    "from collections import Counter\n",
    "print(\"Before Smote: \",Counter(train_y))\n",
    "print(\"After Smote: \",Counter(smote_y))"
   ]
  },
  {
   "cell_type": "code",
   "execution_count": 53,
   "metadata": {},
   "outputs": [
    {
     "name": "stdout",
     "output_type": "stream",
     "text": [
      "Accuracy score:  0.8140851716409107\n",
      "[[6079 1360]\n",
      " [ 216  822]]\n",
      "             precision    recall  f1-score   support\n",
      "\n",
      "        0.0       0.97      0.82      0.89      7439\n",
      "        1.0       0.38      0.79      0.51      1038\n",
      "\n",
      "avg / total       0.89      0.81      0.84      8477\n",
      "\n"
     ]
    }
   ],
   "source": [
    "log_reg.fit(smote_x,smote_y)\n",
    "test_pred=log_reg.predict(test_x)\n",
    "print(\"Accuracy score: \",accuracy_score(test_y,test_pred))\n",
    "print(confusion_matrix(test_y,test_pred))\n",
    "print(classification_report(test_y,test_pred))"
   ]
  },
  {
   "cell_type": "code",
   "execution_count": 55,
   "metadata": {},
   "outputs": [
    {
     "data": {
      "text/plain": [
       "array([1, 0, 0, ..., 1, 0, 1])"
      ]
     },
     "execution_count": 55,
     "metadata": {},
     "output_type": "execute_result"
    }
   ],
   "source": [
    "np.where(log_reg.predict_proba(test_x)[:,1]>0.3,1,0)"
   ]
  },
  {
   "cell_type": "code",
   "execution_count": 56,
   "metadata": {},
   "outputs": [
    {
     "name": "stdout",
     "output_type": "stream",
     "text": [
      "Threshold is : 0.0\n",
      "[[   0 7439]\n",
      " [   0 1038]]\n",
      "Threshold is : 0.1\n",
      "[[2339 5100]\n",
      " [  10 1028]]\n",
      "Threshold is : 0.2\n",
      "[[3804 3635]\n",
      " [  46  992]]\n",
      "Threshold is : 0.30000000000000004\n",
      "[[4720 2719]\n",
      " [  89  949]]\n",
      "Threshold is : 0.4\n",
      "[[5459 1980]\n",
      " [ 147  891]]\n",
      "Threshold is : 0.5\n",
      "[[6079 1360]\n",
      " [ 216  822]]\n",
      "Threshold is : 0.6000000000000001\n",
      "[[6521  918]\n",
      " [ 323  715]]\n",
      "Threshold is : 0.7000000000000001\n",
      "[[6819  620]\n",
      " [ 443  595]]\n",
      "Threshold is : 0.8\n",
      "[[7042  397]\n",
      " [ 586  452]]\n",
      "Threshold is : 0.9\n",
      "[[7243  196]\n",
      " [ 756  282]]\n",
      "Threshold is : 1.0\n",
      "[[7439    0]\n",
      " [1038    0]]\n"
     ]
    }
   ],
   "source": [
    "for th in np.arange(0,1.1,0.1):\n",
    "    test_preds=np.where(log_reg.predict_proba(test_x)[:,1]>th,1,0)\n",
    "    print(\"Threshold is :\",th)\n",
    "    print(confusion_matrix(test_y,test_preds))"
   ]
  },
  {
   "cell_type": "code",
   "execution_count": null,
   "metadata": {},
   "outputs": [],
   "source": []
  }
 ],
 "metadata": {
  "kernelspec": {
   "display_name": "Python 3",
   "language": "python",
   "name": "python3"
  },
  "language_info": {
   "codemirror_mode": {
    "name": "ipython",
    "version": 3
   },
   "file_extension": ".py",
   "mimetype": "text/x-python",
   "name": "python",
   "nbconvert_exporter": "python",
   "pygments_lexer": "ipython3",
   "version": "3.7.3"
  }
 },
 "nbformat": 4,
 "nbformat_minor": 2
}
